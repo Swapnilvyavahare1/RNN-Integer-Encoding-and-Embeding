{
  "cells": [
    {
      "cell_type": "markdown",
      "id": "cf98262e",
      "metadata": {
        "id": "cf98262e"
      },
      "source": [
        "# RNN Integer Encoding Approach"
      ]
    },
    {
      "cell_type": "code",
      "execution_count": 1,
      "id": "e6e98c42",
      "metadata": {
        "id": "e6e98c42"
      },
      "outputs": [],
      "source": [
        "import numpy as np\n",
        "\n",
        "docs= ['Hello Everyone', 'Good Evening', 'How are you', 'Hope you are doing well',\n",
        "      'Enjoy your day', 'RNN CNN ANN', 'RNN NLP LSTM', 'ANN CNN NLP', 'Python Tableau PowerBI',\n",
        "      'RNN CNN BERT NLP ANN']"
      ]
    },
    {
      "cell_type": "code",
      "execution_count": 2,
      "id": "dedf09f8",
      "metadata": {
        "colab": {
          "base_uri": "https://localhost:8080/"
        },
        "id": "dedf09f8",
        "outputId": "47eaa07f-508f-4354-9b62-faf124491692"
      },
      "outputs": [
        {
          "output_type": "execute_result",
          "data": {
            "text/plain": [
              "10"
            ]
          },
          "metadata": {},
          "execution_count": 2
        }
      ],
      "source": [
        "len(docs)"
      ]
    },
    {
      "cell_type": "code",
      "execution_count": 3,
      "id": "5d533eca",
      "metadata": {
        "id": "5d533eca"
      },
      "outputs": [],
      "source": [
        "from keras.preprocessing.text import Tokenizer\n",
        "tokenizer= Tokenizer(oov_token='Amit')\n",
        "# oov_token= out-of-vocab token"
      ]
    },
    {
      "cell_type": "code",
      "execution_count": 4,
      "id": "d17e4bcb",
      "metadata": {
        "id": "d17e4bcb"
      },
      "outputs": [],
      "source": [
        "tokenizer.fit_on_texts(docs)"
      ]
    },
    {
      "cell_type": "code",
      "execution_count": 5,
      "id": "bb800be4",
      "metadata": {
        "scrolled": true,
        "colab": {
          "base_uri": "https://localhost:8080/"
        },
        "id": "bb800be4",
        "outputId": "7d801679-2a3b-43f9-ac31-ba56fbeaae11"
      },
      "outputs": [
        {
          "output_type": "execute_result",
          "data": {
            "text/plain": [
              "{'Amit': 1,\n",
              " 'rnn': 2,\n",
              " 'cnn': 3,\n",
              " 'ann': 4,\n",
              " 'nlp': 5,\n",
              " 'are': 6,\n",
              " 'you': 7,\n",
              " 'hello': 8,\n",
              " 'everyone': 9,\n",
              " 'good': 10,\n",
              " 'evening': 11,\n",
              " 'how': 12,\n",
              " 'hope': 13,\n",
              " 'doing': 14,\n",
              " 'well': 15,\n",
              " 'enjoy': 16,\n",
              " 'your': 17,\n",
              " 'day': 18,\n",
              " 'lstm': 19,\n",
              " 'python': 20,\n",
              " 'tableau': 21,\n",
              " 'powerbi': 22,\n",
              " 'bert': 23}"
            ]
          },
          "metadata": {},
          "execution_count": 5
        }
      ],
      "source": [
        "tokenizer.word_index"
      ]
    },
    {
      "cell_type": "code",
      "execution_count": 6,
      "id": "ba66757c",
      "metadata": {
        "scrolled": true,
        "colab": {
          "base_uri": "https://localhost:8080/"
        },
        "id": "ba66757c",
        "outputId": "a5cf4aa0-98f6-4d51-b4bc-f10c37059101"
      },
      "outputs": [
        {
          "output_type": "execute_result",
          "data": {
            "text/plain": [
              "OrderedDict([('hello', 1),\n",
              "             ('everyone', 1),\n",
              "             ('good', 1),\n",
              "             ('evening', 1),\n",
              "             ('how', 1),\n",
              "             ('are', 2),\n",
              "             ('you', 2),\n",
              "             ('hope', 1),\n",
              "             ('doing', 1),\n",
              "             ('well', 1),\n",
              "             ('enjoy', 1),\n",
              "             ('your', 1),\n",
              "             ('day', 1),\n",
              "             ('rnn', 3),\n",
              "             ('cnn', 3),\n",
              "             ('ann', 3),\n",
              "             ('nlp', 3),\n",
              "             ('lstm', 1),\n",
              "             ('python', 1),\n",
              "             ('tableau', 1),\n",
              "             ('powerbi', 1),\n",
              "             ('bert', 1)])"
            ]
          },
          "metadata": {},
          "execution_count": 6
        }
      ],
      "source": [
        "tokenizer.word_counts"
      ]
    },
    {
      "cell_type": "code",
      "execution_count": 7,
      "id": "8d3c1420",
      "metadata": {
        "colab": {
          "base_uri": "https://localhost:8080/"
        },
        "id": "8d3c1420",
        "outputId": "072ecf98-062f-47b1-f78b-b71713c85f97"
      },
      "outputs": [
        {
          "output_type": "execute_result",
          "data": {
            "text/plain": [
              "10"
            ]
          },
          "metadata": {},
          "execution_count": 7
        }
      ],
      "source": [
        "tokenizer.document_count"
      ]
    },
    {
      "cell_type": "code",
      "execution_count": 8,
      "id": "c9c28000",
      "metadata": {
        "id": "c9c28000"
      },
      "outputs": [],
      "source": [
        "sequences= tokenizer.texts_to_sequences(docs)"
      ]
    },
    {
      "cell_type": "code",
      "execution_count": 9,
      "id": "34e10d2d",
      "metadata": {
        "colab": {
          "base_uri": "https://localhost:8080/"
        },
        "id": "34e10d2d",
        "outputId": "9cd5f1d9-4cac-4258-c166-15477c404a66"
      },
      "outputs": [
        {
          "output_type": "execute_result",
          "data": {
            "text/plain": [
              "[[8, 9],\n",
              " [10, 11],\n",
              " [12, 6, 7],\n",
              " [13, 7, 6, 14, 15],\n",
              " [16, 17, 18],\n",
              " [2, 3, 4],\n",
              " [2, 5, 19],\n",
              " [4, 3, 5],\n",
              " [20, 21, 22],\n",
              " [2, 3, 23, 5, 4]]"
            ]
          },
          "metadata": {},
          "execution_count": 9
        }
      ],
      "source": [
        "sequences"
      ]
    },
    {
      "cell_type": "markdown",
      "id": "b864e856",
      "metadata": {
        "id": "b864e856"
      },
      "source": [
        "Padding"
      ]
    },
    {
      "cell_type": "code",
      "execution_count": 10,
      "id": "a70094e7",
      "metadata": {
        "id": "a70094e7"
      },
      "outputs": [],
      "source": [
        "from keras.utils import pad_sequences"
      ]
    },
    {
      "cell_type": "code",
      "execution_count": 11,
      "id": "685106c4",
      "metadata": {
        "id": "685106c4"
      },
      "outputs": [],
      "source": [
        "seq= pad_sequences(sequences, padding='pre')\n",
        "seq1= pad_sequences(sequences, padding='post')"
      ]
    },
    {
      "cell_type": "code",
      "execution_count": 12,
      "id": "d5d3171b",
      "metadata": {
        "colab": {
          "base_uri": "https://localhost:8080/"
        },
        "id": "d5d3171b",
        "outputId": "057b135d-c674-4338-99ad-64e6ee2a6a6d"
      },
      "outputs": [
        {
          "output_type": "execute_result",
          "data": {
            "text/plain": [
              "array([[ 0,  0,  0,  8,  9],\n",
              "       [ 0,  0,  0, 10, 11],\n",
              "       [ 0,  0, 12,  6,  7],\n",
              "       [13,  7,  6, 14, 15],\n",
              "       [ 0,  0, 16, 17, 18],\n",
              "       [ 0,  0,  2,  3,  4],\n",
              "       [ 0,  0,  2,  5, 19],\n",
              "       [ 0,  0,  4,  3,  5],\n",
              "       [ 0,  0, 20, 21, 22],\n",
              "       [ 2,  3, 23,  5,  4]], dtype=int32)"
            ]
          },
          "metadata": {},
          "execution_count": 12
        }
      ],
      "source": [
        "seq"
      ]
    },
    {
      "cell_type": "code",
      "execution_count": 13,
      "id": "f6e52bf1",
      "metadata": {
        "colab": {
          "base_uri": "https://localhost:8080/"
        },
        "id": "f6e52bf1",
        "outputId": "931f707f-7206-4ca3-d973-dd1819534490"
      },
      "outputs": [
        {
          "output_type": "execute_result",
          "data": {
            "text/plain": [
              "array([[ 8,  9,  0,  0,  0],\n",
              "       [10, 11,  0,  0,  0],\n",
              "       [12,  6,  7,  0,  0],\n",
              "       [13,  7,  6, 14, 15],\n",
              "       [16, 17, 18,  0,  0],\n",
              "       [ 2,  3,  4,  0,  0],\n",
              "       [ 2,  5, 19,  0,  0],\n",
              "       [ 4,  3,  5,  0,  0],\n",
              "       [20, 21, 22,  0,  0],\n",
              "       [ 2,  3, 23,  5,  4]], dtype=int32)"
            ]
          },
          "metadata": {},
          "execution_count": 13
        }
      ],
      "source": [
        "seq1"
      ]
    },
    {
      "cell_type": "markdown",
      "id": "4220a263",
      "metadata": {
        "id": "4220a263"
      },
      "source": [
        "# IMDB movie review sentiment classification dataset"
      ]
    },
    {
      "cell_type": "code",
      "execution_count": 14,
      "id": "e20777f1",
      "metadata": {
        "id": "e20777f1"
      },
      "outputs": [],
      "source": [
        "from keras.datasets import imdb\n",
        "from keras import Sequential\n",
        "from keras.layers import Dense, SimpleRNN, Embedding, Flatten"
      ]
    },
    {
      "cell_type": "code",
      "execution_count": 15,
      "id": "ec6c0003",
      "metadata": {
        "colab": {
          "base_uri": "https://localhost:8080/"
        },
        "id": "ec6c0003",
        "outputId": "771143a2-2d6c-4929-8aeb-677afebda7ad"
      },
      "outputs": [
        {
          "output_type": "stream",
          "name": "stdout",
          "text": [
            "Downloading data from https://storage.googleapis.com/tensorflow/tf-keras-datasets/imdb.npz\n",
            "17464789/17464789 [==============================] - 1s 0us/step\n"
          ]
        }
      ],
      "source": [
        "(x_train, y_train), (x_test, y_test)= imdb.load_data()"
      ]
    },
    {
      "cell_type": "code",
      "execution_count": 16,
      "id": "bdbdfa8e",
      "metadata": {
        "colab": {
          "base_uri": "https://localhost:8080/"
        },
        "id": "bdbdfa8e",
        "outputId": "2bbf58a7-6bc9-4bb7-a437-fe58c7a9a0f4"
      },
      "outputs": [
        {
          "output_type": "execute_result",
          "data": {
            "text/plain": [
              "(25000,)"
            ]
          },
          "metadata": {},
          "execution_count": 16
        }
      ],
      "source": [
        "x_train.shape"
      ]
    },
    {
      "cell_type": "code",
      "execution_count": 17,
      "id": "d5083dc3",
      "metadata": {
        "colab": {
          "base_uri": "https://localhost:8080/"
        },
        "id": "d5083dc3",
        "outputId": "2cb4ee99-00e9-4d29-aadc-271483aa9aae"
      },
      "outputs": [
        {
          "output_type": "execute_result",
          "data": {
            "text/plain": [
              "(25000,)"
            ]
          },
          "metadata": {},
          "execution_count": 17
        }
      ],
      "source": [
        "y_train.shape"
      ]
    },
    {
      "cell_type": "code",
      "execution_count": 18,
      "id": "861ed8da",
      "metadata": {
        "colab": {
          "base_uri": "https://localhost:8080/"
        },
        "id": "861ed8da",
        "outputId": "77d0e5a7-30b3-44ed-fc3c-bc491929f78d"
      },
      "outputs": [
        {
          "output_type": "execute_result",
          "data": {
            "text/plain": [
              "(25000,)"
            ]
          },
          "metadata": {},
          "execution_count": 18
        }
      ],
      "source": [
        "x_test.shape"
      ]
    },
    {
      "cell_type": "code",
      "execution_count": 19,
      "id": "c8132cea",
      "metadata": {
        "colab": {
          "base_uri": "https://localhost:8080/"
        },
        "id": "c8132cea",
        "outputId": "593b1eb5-3bd8-412f-81fc-aff98be02695"
      },
      "outputs": [
        {
          "output_type": "execute_result",
          "data": {
            "text/plain": [
              "(25000,)"
            ]
          },
          "metadata": {},
          "execution_count": 19
        }
      ],
      "source": [
        "y_test.shape"
      ]
    },
    {
      "cell_type": "code",
      "execution_count": 20,
      "id": "a372c981",
      "metadata": {
        "colab": {
          "base_uri": "https://localhost:8080/"
        },
        "id": "a372c981",
        "outputId": "08ef23c3-a5e3-4b87-9863-6c9dcdcba4c3"
      },
      "outputs": [
        {
          "output_type": "execute_result",
          "data": {
            "text/plain": [
              "[1,\n",
              " 14,\n",
              " 22,\n",
              " 16,\n",
              " 43,\n",
              " 530,\n",
              " 973,\n",
              " 1622,\n",
              " 1385,\n",
              " 65,\n",
              " 458,\n",
              " 4468,\n",
              " 66,\n",
              " 3941,\n",
              " 4,\n",
              " 173,\n",
              " 36,\n",
              " 256,\n",
              " 5,\n",
              " 25,\n",
              " 100,\n",
              " 43,\n",
              " 838,\n",
              " 112,\n",
              " 50,\n",
              " 670,\n",
              " 22665,\n",
              " 9,\n",
              " 35,\n",
              " 480,\n",
              " 284,\n",
              " 5,\n",
              " 150,\n",
              " 4,\n",
              " 172,\n",
              " 112,\n",
              " 167,\n",
              " 21631,\n",
              " 336,\n",
              " 385,\n",
              " 39,\n",
              " 4,\n",
              " 172,\n",
              " 4536,\n",
              " 1111,\n",
              " 17,\n",
              " 546,\n",
              " 38,\n",
              " 13,\n",
              " 447,\n",
              " 4,\n",
              " 192,\n",
              " 50,\n",
              " 16,\n",
              " 6,\n",
              " 147,\n",
              " 2025,\n",
              " 19,\n",
              " 14,\n",
              " 22,\n",
              " 4,\n",
              " 1920,\n",
              " 4613,\n",
              " 469,\n",
              " 4,\n",
              " 22,\n",
              " 71,\n",
              " 87,\n",
              " 12,\n",
              " 16,\n",
              " 43,\n",
              " 530,\n",
              " 38,\n",
              " 76,\n",
              " 15,\n",
              " 13,\n",
              " 1247,\n",
              " 4,\n",
              " 22,\n",
              " 17,\n",
              " 515,\n",
              " 17,\n",
              " 12,\n",
              " 16,\n",
              " 626,\n",
              " 18,\n",
              " 19193,\n",
              " 5,\n",
              " 62,\n",
              " 386,\n",
              " 12,\n",
              " 8,\n",
              " 316,\n",
              " 8,\n",
              " 106,\n",
              " 5,\n",
              " 4,\n",
              " 2223,\n",
              " 5244,\n",
              " 16,\n",
              " 480,\n",
              " 66,\n",
              " 3785,\n",
              " 33,\n",
              " 4,\n",
              " 130,\n",
              " 12,\n",
              " 16,\n",
              " 38,\n",
              " 619,\n",
              " 5,\n",
              " 25,\n",
              " 124,\n",
              " 51,\n",
              " 36,\n",
              " 135,\n",
              " 48,\n",
              " 25,\n",
              " 1415,\n",
              " 33,\n",
              " 6,\n",
              " 22,\n",
              " 12,\n",
              " 215,\n",
              " 28,\n",
              " 77,\n",
              " 52,\n",
              " 5,\n",
              " 14,\n",
              " 407,\n",
              " 16,\n",
              " 82,\n",
              " 10311,\n",
              " 8,\n",
              " 4,\n",
              " 107,\n",
              " 117,\n",
              " 5952,\n",
              " 15,\n",
              " 256,\n",
              " 4,\n",
              " 31050,\n",
              " 7,\n",
              " 3766,\n",
              " 5,\n",
              " 723,\n",
              " 36,\n",
              " 71,\n",
              " 43,\n",
              " 530,\n",
              " 476,\n",
              " 26,\n",
              " 400,\n",
              " 317,\n",
              " 46,\n",
              " 7,\n",
              " 4,\n",
              " 12118,\n",
              " 1029,\n",
              " 13,\n",
              " 104,\n",
              " 88,\n",
              " 4,\n",
              " 381,\n",
              " 15,\n",
              " 297,\n",
              " 98,\n",
              " 32,\n",
              " 2071,\n",
              " 56,\n",
              " 26,\n",
              " 141,\n",
              " 6,\n",
              " 194,\n",
              " 7486,\n",
              " 18,\n",
              " 4,\n",
              " 226,\n",
              " 22,\n",
              " 21,\n",
              " 134,\n",
              " 476,\n",
              " 26,\n",
              " 480,\n",
              " 5,\n",
              " 144,\n",
              " 30,\n",
              " 5535,\n",
              " 18,\n",
              " 51,\n",
              " 36,\n",
              " 28,\n",
              " 224,\n",
              " 92,\n",
              " 25,\n",
              " 104,\n",
              " 4,\n",
              " 226,\n",
              " 65,\n",
              " 16,\n",
              " 38,\n",
              " 1334,\n",
              " 88,\n",
              " 12,\n",
              " 16,\n",
              " 283,\n",
              " 5,\n",
              " 16,\n",
              " 4472,\n",
              " 113,\n",
              " 103,\n",
              " 32,\n",
              " 15,\n",
              " 16,\n",
              " 5345,\n",
              " 19,\n",
              " 178,\n",
              " 32]"
            ]
          },
          "metadata": {},
          "execution_count": 20
        }
      ],
      "source": [
        "x_train[0]"
      ]
    },
    {
      "cell_type": "code",
      "execution_count": 21,
      "id": "1bc35483",
      "metadata": {
        "colab": {
          "base_uri": "https://localhost:8080/"
        },
        "id": "1bc35483",
        "outputId": "bff5792d-73d9-4112-e066-7927d6c0991a"
      },
      "outputs": [
        {
          "output_type": "execute_result",
          "data": {
            "text/plain": [
              "218"
            ]
          },
          "metadata": {},
          "execution_count": 21
        }
      ],
      "source": [
        "len(x_train[0])"
      ]
    },
    {
      "cell_type": "code",
      "execution_count": 22,
      "id": "5372bd0e",
      "metadata": {
        "colab": {
          "base_uri": "https://localhost:8080/"
        },
        "id": "5372bd0e",
        "outputId": "83fdc8a5-86fe-48c1-b095-591bf9103bc1"
      },
      "outputs": [
        {
          "output_type": "execute_result",
          "data": {
            "text/plain": [
              "189"
            ]
          },
          "metadata": {},
          "execution_count": 22
        }
      ],
      "source": [
        "len(x_train[1])"
      ]
    },
    {
      "cell_type": "markdown",
      "id": "4a22d475",
      "metadata": {
        "id": "4a22d475"
      },
      "source": [
        "Padding required, since we have different length in all reviews."
      ]
    },
    {
      "cell_type": "code",
      "execution_count": 23,
      "id": "59efaed8",
      "metadata": {
        "id": "59efaed8"
      },
      "outputs": [],
      "source": [
        "from keras.utils import pad_sequences\n",
        "\n",
        "x_train= pad_sequences(x_train, padding='post', maxlen=100)\n",
        "# Don't use maxlen, and then try\n",
        "x_test= pad_sequences(x_test, padding='post', maxlen=100)"
      ]
    },
    {
      "cell_type": "code",
      "execution_count": 24,
      "id": "d474f909",
      "metadata": {
        "colab": {
          "base_uri": "https://localhost:8080/"
        },
        "id": "d474f909",
        "outputId": "3d5751bf-f0fb-47e7-b6a8-2813c4fcf252"
      },
      "outputs": [
        {
          "output_type": "execute_result",
          "data": {
            "text/plain": [
              "100"
            ]
          },
          "metadata": {},
          "execution_count": 24
        }
      ],
      "source": [
        "len(x_train[0])"
      ]
    },
    {
      "cell_type": "code",
      "execution_count": 25,
      "id": "a5b024c9",
      "metadata": {
        "colab": {
          "base_uri": "https://localhost:8080/"
        },
        "id": "a5b024c9",
        "outputId": "75b64426-4b4d-4881-dee8-87c1306d1603"
      },
      "outputs": [
        {
          "output_type": "execute_result",
          "data": {
            "text/plain": [
              "100"
            ]
          },
          "metadata": {},
          "execution_count": 25
        }
      ],
      "source": [
        "len(x_train[1])"
      ]
    },
    {
      "cell_type": "code",
      "execution_count": 26,
      "id": "10406bcf",
      "metadata": {
        "colab": {
          "base_uri": "https://localhost:8080/"
        },
        "id": "10406bcf",
        "outputId": "9abb41d4-4401-47fc-d90a-a7e5b268c795"
      },
      "outputs": [
        {
          "output_type": "execute_result",
          "data": {
            "text/plain": [
              "array([ 1415,    33,     6,    22,    12,   215,    28,    77,    52,\n",
              "           5,    14,   407,    16,    82, 10311,     8,     4,   107,\n",
              "         117,  5952,    15,   256,     4, 31050,     7,  3766,     5,\n",
              "         723,    36,    71,    43,   530,   476,    26,   400,   317,\n",
              "          46,     7,     4, 12118,  1029,    13,   104,    88,     4,\n",
              "         381,    15,   297,    98,    32,  2071,    56,    26,   141,\n",
              "           6,   194,  7486,    18,     4,   226,    22,    21,   134,\n",
              "         476,    26,   480,     5,   144,    30,  5535,    18,    51,\n",
              "          36,    28,   224,    92,    25,   104,     4,   226,    65,\n",
              "          16,    38,  1334,    88,    12,    16,   283,     5,    16,\n",
              "        4472,   113,   103,    32,    15,    16,  5345,    19,   178,\n",
              "          32], dtype=int32)"
            ]
          },
          "metadata": {},
          "execution_count": 26
        }
      ],
      "source": [
        "x_train[0]"
      ]
    },
    {
      "cell_type": "code",
      "execution_count": 27,
      "id": "058a5093",
      "metadata": {
        "colab": {
          "base_uri": "https://localhost:8080/"
        },
        "id": "058a5093",
        "outputId": "f28c6dbc-3df9-4223-8b6a-a2831823be79"
      },
      "outputs": [
        {
          "output_type": "stream",
          "name": "stdout",
          "text": [
            "Model: \"sequential\"\n",
            "_________________________________________________________________\n",
            " Layer (type)                Output Shape              Param #   \n",
            "=================================================================\n",
            " simple_rnn (SimpleRNN)      (None, 32)                1088      \n",
            "                                                                 \n",
            " dense (Dense)               (None, 1)                 33        \n",
            "                                                                 \n",
            "=================================================================\n",
            "Total params: 1,121\n",
            "Trainable params: 1,121\n",
            "Non-trainable params: 0\n",
            "_________________________________________________________________\n"
          ]
        }
      ],
      "source": [
        "model= Sequential()\n",
        "model.add(SimpleRNN(32, input_shape=(100,1), return_sequences=False))# Use return_sequences=True in case of Name entity recognition, NLP  \n",
        "model.add(Dense(1, activation='sigmoid'))\n",
        "model.summary()"
      ]
    },
    {
      "cell_type": "markdown",
      "id": "8aebe417",
      "metadata": {
        "id": "8aebe417"
      },
      "source": [
        "![image.png](attachment:image.png)"
      ]
    },
    {
      "cell_type": "code",
      "execution_count": 28,
      "id": "c516dc1a",
      "metadata": {
        "scrolled": true,
        "id": "c516dc1a"
      },
      "outputs": [],
      "source": [
        "#model.compile(optimizer='adam', loss='binary_crossentropy', metrics=['accuracy'])\n",
        "#model.fit(x_train, y_train, validation_data=(x_test, y_test), batch_size=32, epochs= 20)"
      ]
    },
    {
      "cell_type": "markdown",
      "id": "00d540a1",
      "metadata": {
        "id": "00d540a1"
      },
      "source": [
        "# RNN - Embeding approach"
      ]
    },
    {
      "cell_type": "code",
      "execution_count": 29,
      "id": "fa17fe5a",
      "metadata": {
        "id": "fa17fe5a"
      },
      "outputs": [],
      "source": [
        "docs= ['Hello Everyone', 'Good Evening', 'How are you', 'Hope you are doing well',\n",
        "      'Enjoy your day', 'RNN CNN ANN', 'RNN NLP LSTM', 'ANN CNN NLP', 'Python Tableau PowerBI',\n",
        "      'RNN CNN BERT NLP ANN']"
      ]
    },
    {
      "cell_type": "code",
      "execution_count": 30,
      "id": "6ba031bb",
      "metadata": {
        "id": "6ba031bb"
      },
      "outputs": [],
      "source": [
        "from keras.preprocessing.text import Tokenizer\n",
        "tokenizer= Tokenizer()"
      ]
    },
    {
      "cell_type": "code",
      "execution_count": 31,
      "id": "263658d9",
      "metadata": {
        "id": "263658d9"
      },
      "outputs": [],
      "source": [
        "tokenizer.fit_on_texts(docs)"
      ]
    },
    {
      "cell_type": "code",
      "execution_count": 32,
      "id": "207d5107",
      "metadata": {
        "colab": {
          "base_uri": "https://localhost:8080/"
        },
        "id": "207d5107",
        "outputId": "35cf8657-ac07-4fdb-f8b3-e3f2ac1a7e3d"
      },
      "outputs": [
        {
          "output_type": "execute_result",
          "data": {
            "text/plain": [
              "22"
            ]
          },
          "metadata": {},
          "execution_count": 32
        }
      ],
      "source": [
        "len(tokenizer.word_index)"
      ]
    },
    {
      "cell_type": "code",
      "execution_count": 33,
      "id": "683330f0",
      "metadata": {
        "scrolled": true,
        "colab": {
          "base_uri": "https://localhost:8080/"
        },
        "id": "683330f0",
        "outputId": "c15ba546-4ff3-4cf6-eeba-bc587e8f8f54"
      },
      "outputs": [
        {
          "output_type": "execute_result",
          "data": {
            "text/plain": [
              "{'rnn': 1,\n",
              " 'cnn': 2,\n",
              " 'ann': 3,\n",
              " 'nlp': 4,\n",
              " 'are': 5,\n",
              " 'you': 6,\n",
              " 'hello': 7,\n",
              " 'everyone': 8,\n",
              " 'good': 9,\n",
              " 'evening': 10,\n",
              " 'how': 11,\n",
              " 'hope': 12,\n",
              " 'doing': 13,\n",
              " 'well': 14,\n",
              " 'enjoy': 15,\n",
              " 'your': 16,\n",
              " 'day': 17,\n",
              " 'lstm': 18,\n",
              " 'python': 19,\n",
              " 'tableau': 20,\n",
              " 'powerbi': 21,\n",
              " 'bert': 22}"
            ]
          },
          "metadata": {},
          "execution_count": 33
        }
      ],
      "source": [
        "tokenizer.word_index"
      ]
    },
    {
      "cell_type": "code",
      "execution_count": 34,
      "id": "4d271ba6",
      "metadata": {
        "id": "4d271ba6"
      },
      "outputs": [],
      "source": [
        "sequences= tokenizer.texts_to_sequences(docs)"
      ]
    },
    {
      "cell_type": "code",
      "execution_count": 35,
      "id": "2bf48bd2",
      "metadata": {
        "colab": {
          "base_uri": "https://localhost:8080/"
        },
        "id": "2bf48bd2",
        "outputId": "8f527134-49d8-446b-f0ed-dc3d512eb640"
      },
      "outputs": [
        {
          "output_type": "execute_result",
          "data": {
            "text/plain": [
              "[[7, 8],\n",
              " [9, 10],\n",
              " [11, 5, 6],\n",
              " [12, 6, 5, 13, 14],\n",
              " [15, 16, 17],\n",
              " [1, 2, 3],\n",
              " [1, 4, 18],\n",
              " [3, 2, 4],\n",
              " [19, 20, 21],\n",
              " [1, 2, 22, 4, 3]]"
            ]
          },
          "metadata": {},
          "execution_count": 35
        }
      ],
      "source": [
        "sequences"
      ]
    },
    {
      "cell_type": "code",
      "execution_count": 36,
      "id": "75be4f40",
      "metadata": {
        "colab": {
          "base_uri": "https://localhost:8080/"
        },
        "id": "75be4f40",
        "outputId": "54a57aff-e7c3-476f-98c2-bb6c88d94851"
      },
      "outputs": [
        {
          "output_type": "execute_result",
          "data": {
            "text/plain": [
              "array([[ 7,  8,  0,  0,  0],\n",
              "       [ 9, 10,  0,  0,  0],\n",
              "       [11,  5,  6,  0,  0],\n",
              "       [12,  6,  5, 13, 14],\n",
              "       [15, 16, 17,  0,  0],\n",
              "       [ 1,  2,  3,  0,  0],\n",
              "       [ 1,  4, 18,  0,  0],\n",
              "       [ 3,  2,  4,  0,  0],\n",
              "       [19, 20, 21,  0,  0],\n",
              "       [ 1,  2, 22,  4,  3]], dtype=int32)"
            ]
          },
          "metadata": {},
          "execution_count": 36
        }
      ],
      "source": [
        "from keras.utils import pad_sequences\n",
        "seq3= pad_sequences(sequences, padding='post')\n",
        "seq3"
      ]
    },
    {
      "cell_type": "code",
      "execution_count": 37,
      "id": "d1dd59d1",
      "metadata": {
        "colab": {
          "base_uri": "https://localhost:8080/"
        },
        "id": "d1dd59d1",
        "outputId": "f2a99b36-94fe-4bcf-f068-5ae557dc22c2"
      },
      "outputs": [
        {
          "output_type": "stream",
          "name": "stdout",
          "text": [
            "Model: \"sequential_1\"\n",
            "_________________________________________________________________\n",
            " Layer (type)                Output Shape              Param #   \n",
            "=================================================================\n",
            " embedding (Embedding)       (None, 5, 2)              44        \n",
            "                                                                 \n",
            "=================================================================\n",
            "Total params: 44\n",
            "Trainable params: 44\n",
            "Non-trainable params: 0\n",
            "_________________________________________________________________\n"
          ]
        }
      ],
      "source": [
        "model= Sequential()\n",
        "model.add(Embedding(22, output_dim=2, input_length=5))\n",
        "model.summary()"
      ]
    },
    {
      "cell_type": "code",
      "execution_count": 38,
      "id": "9f513d36",
      "metadata": {
        "id": "9f513d36"
      },
      "outputs": [],
      "source": [
        "model.compile('adam', 'accuracy')"
      ]
    },
    {
      "cell_type": "code",
      "execution_count": 49,
      "id": "fc61f1c3",
      "metadata": {
        "colab": {
          "base_uri": "https://localhost:8080/",
          "height": 744
        },
        "id": "fc61f1c3",
        "outputId": "c5d703a2-5124-4543-deb6-68915b6850c8"
      },
      "outputs": [
        {
          "output_type": "error",
          "ename": "ValueError",
          "evalue": "ignored",
          "traceback": [
            "\u001b[0;31m---------------------------------------------------------------------------\u001b[0m",
            "\u001b[0;31mValueError\u001b[0m                                Traceback (most recent call last)",
            "\u001b[0;32m<ipython-input-49-5400b096ffe7>\u001b[0m in \u001b[0;36m<cell line: 1>\u001b[0;34m()\u001b[0m\n\u001b[0;32m----> 1\u001b[0;31m \u001b[0mpred\u001b[0m\u001b[0;34m=\u001b[0m \u001b[0mmodel\u001b[0m\u001b[0;34m.\u001b[0m\u001b[0mpredict\u001b[0m\u001b[0;34m(\u001b[0m\u001b[0mseq3\u001b[0m\u001b[0;34m)\u001b[0m\u001b[0;34m\u001b[0m\u001b[0;34m\u001b[0m\u001b[0m\n\u001b[0m\u001b[1;32m      2\u001b[0m \u001b[0mprint\u001b[0m\u001b[0;34m(\u001b[0m\u001b[0mpred\u001b[0m\u001b[0;34m)\u001b[0m\u001b[0;34m\u001b[0m\u001b[0;34m\u001b[0m\u001b[0m\n",
            "\u001b[0;32m/usr/local/lib/python3.10/dist-packages/keras/utils/traceback_utils.py\u001b[0m in \u001b[0;36merror_handler\u001b[0;34m(*args, **kwargs)\u001b[0m\n\u001b[1;32m     68\u001b[0m             \u001b[0;31m# To get the full stack trace, call:\u001b[0m\u001b[0;34m\u001b[0m\u001b[0;34m\u001b[0m\u001b[0m\n\u001b[1;32m     69\u001b[0m             \u001b[0;31m# `tf.debugging.disable_traceback_filtering()`\u001b[0m\u001b[0;34m\u001b[0m\u001b[0;34m\u001b[0m\u001b[0m\n\u001b[0;32m---> 70\u001b[0;31m             \u001b[0;32mraise\u001b[0m \u001b[0me\u001b[0m\u001b[0;34m.\u001b[0m\u001b[0mwith_traceback\u001b[0m\u001b[0;34m(\u001b[0m\u001b[0mfiltered_tb\u001b[0m\u001b[0;34m)\u001b[0m \u001b[0;32mfrom\u001b[0m \u001b[0;32mNone\u001b[0m\u001b[0;34m\u001b[0m\u001b[0;34m\u001b[0m\u001b[0m\n\u001b[0m\u001b[1;32m     71\u001b[0m         \u001b[0;32mfinally\u001b[0m\u001b[0;34m:\u001b[0m\u001b[0;34m\u001b[0m\u001b[0;34m\u001b[0m\u001b[0m\n\u001b[1;32m     72\u001b[0m             \u001b[0;32mdel\u001b[0m \u001b[0mfiltered_tb\u001b[0m\u001b[0;34m\u001b[0m\u001b[0;34m\u001b[0m\u001b[0m\n",
            "\u001b[0;32m/usr/local/lib/python3.10/dist-packages/keras/engine/training.py\u001b[0m in \u001b[0;36mtf__predict_function\u001b[0;34m(iterator)\u001b[0m\n\u001b[1;32m     13\u001b[0m                 \u001b[0;32mtry\u001b[0m\u001b[0;34m:\u001b[0m\u001b[0;34m\u001b[0m\u001b[0;34m\u001b[0m\u001b[0m\n\u001b[1;32m     14\u001b[0m                     \u001b[0mdo_return\u001b[0m \u001b[0;34m=\u001b[0m \u001b[0;32mTrue\u001b[0m\u001b[0;34m\u001b[0m\u001b[0;34m\u001b[0m\u001b[0m\n\u001b[0;32m---> 15\u001b[0;31m                     \u001b[0mretval_\u001b[0m \u001b[0;34m=\u001b[0m \u001b[0mag__\u001b[0m\u001b[0;34m.\u001b[0m\u001b[0mconverted_call\u001b[0m\u001b[0;34m(\u001b[0m\u001b[0mag__\u001b[0m\u001b[0;34m.\u001b[0m\u001b[0mld\u001b[0m\u001b[0;34m(\u001b[0m\u001b[0mstep_function\u001b[0m\u001b[0;34m)\u001b[0m\u001b[0;34m,\u001b[0m \u001b[0;34m(\u001b[0m\u001b[0mag__\u001b[0m\u001b[0;34m.\u001b[0m\u001b[0mld\u001b[0m\u001b[0;34m(\u001b[0m\u001b[0mself\u001b[0m\u001b[0;34m)\u001b[0m\u001b[0;34m,\u001b[0m \u001b[0mag__\u001b[0m\u001b[0;34m.\u001b[0m\u001b[0mld\u001b[0m\u001b[0;34m(\u001b[0m\u001b[0miterator\u001b[0m\u001b[0;34m)\u001b[0m\u001b[0;34m)\u001b[0m\u001b[0;34m,\u001b[0m \u001b[0;32mNone\u001b[0m\u001b[0;34m,\u001b[0m \u001b[0mfscope\u001b[0m\u001b[0;34m)\u001b[0m\u001b[0;34m\u001b[0m\u001b[0;34m\u001b[0m\u001b[0m\n\u001b[0m\u001b[1;32m     16\u001b[0m                 \u001b[0;32mexcept\u001b[0m\u001b[0;34m:\u001b[0m\u001b[0;34m\u001b[0m\u001b[0;34m\u001b[0m\u001b[0m\n\u001b[1;32m     17\u001b[0m                     \u001b[0mdo_return\u001b[0m \u001b[0;34m=\u001b[0m \u001b[0;32mFalse\u001b[0m\u001b[0;34m\u001b[0m\u001b[0;34m\u001b[0m\u001b[0m\n",
            "\u001b[0;31mValueError\u001b[0m: in user code:\n\n    File \"/usr/local/lib/python3.10/dist-packages/keras/engine/training.py\", line 2169, in predict_function  *\n        return step_function(self, iterator)\n    File \"/usr/local/lib/python3.10/dist-packages/keras/engine/training.py\", line 2155, in step_function  **\n        outputs = model.distribute_strategy.run(run_step, args=(data,))\n    File \"/usr/local/lib/python3.10/dist-packages/keras/engine/training.py\", line 2143, in run_step  **\n        outputs = model.predict_step(data)\n    File \"/usr/local/lib/python3.10/dist-packages/keras/engine/training.py\", line 2111, in predict_step\n        return self(x, training=False)\n    File \"/usr/local/lib/python3.10/dist-packages/keras/utils/traceback_utils.py\", line 70, in error_handler\n        raise e.with_traceback(filtered_tb) from None\n    File \"/usr/local/lib/python3.10/dist-packages/keras/engine/input_spec.py\", line 298, in assert_input_compatibility\n        raise ValueError(\n\n    ValueError: Input 0 of layer \"sequential_2\" is incompatible with the layer: expected shape=(None, 100), found shape=(None, 5)\n"
          ]
        }
      ],
      "source": [
        "pred= model.predict(seq3)\n",
        "print(pred)"
      ]
    },
    {
      "cell_type": "code",
      "execution_count": 40,
      "id": "d17a4864",
      "metadata": {
        "id": "d17a4864"
      },
      "outputs": [],
      "source": [
        "# Using Embeding method with IMDB Dataset"
      ]
    },
    {
      "cell_type": "code",
      "execution_count": 41,
      "id": "6102c717",
      "metadata": {
        "id": "6102c717"
      },
      "outputs": [],
      "source": [
        "from keras.datasets import imdb\n",
        "from keras import Sequential\n",
        "from keras.layers import Dense, SimpleRNN, Embedding, Flatten"
      ]
    },
    {
      "cell_type": "code",
      "execution_count": 42,
      "id": "f8a7bf5a",
      "metadata": {
        "colab": {
          "base_uri": "https://localhost:8080/",
          "height": 70
        },
        "id": "f8a7bf5a",
        "outputId": "a0c6495f-7641-4ddd-d14c-fd70b987b4ec"
      },
      "outputs": [
        {
          "output_type": "execute_result",
          "data": {
            "text/plain": [
              "\"\\nInteger encoding\\nmodel= Sequential()\\nmodel.add(SimpleRNN(32, input_shape=(100,1), return_sequences=False))# Use return_sequences=True in case of Name entity recognition, NLP  \\nmodel.add(Dense(1, activation='sigmoid'))\\nmodel.summary()\\n\""
            ],
            "application/vnd.google.colaboratory.intrinsic+json": {
              "type": "string"
            }
          },
          "metadata": {},
          "execution_count": 42
        }
      ],
      "source": [
        "'''\n",
        "Integer encoding\n",
        "model= Sequential()\n",
        "model.add(SimpleRNN(32, input_shape=(100,1), return_sequences=False))# Use return_sequences=True in case of Name entity recognition, NLP  \n",
        "model.add(Dense(1, activation='sigmoid'))\n",
        "model.summary()\n",
        "'''"
      ]
    },
    {
      "cell_type": "code",
      "execution_count": 43,
      "id": "822981a3",
      "metadata": {
        "id": "822981a3"
      },
      "outputs": [],
      "source": [
        "(x_train, y_train), (x_test, y_test)= imdb.load_data()"
      ]
    },
    {
      "cell_type": "code",
      "execution_count": 44,
      "id": "88333059",
      "metadata": {
        "id": "88333059"
      },
      "outputs": [],
      "source": [
        "from keras.utils import pad_sequences\n",
        "\n",
        "x_train= pad_sequences(x_train, padding='post', maxlen=100)\n",
        "# Don't use maxlen, and then try\n",
        "x_test= pad_sequences(x_test, padding='post', maxlen=100)"
      ]
    },
    {
      "cell_type": "code",
      "execution_count": 45,
      "id": "e02bebcd",
      "metadata": {
        "colab": {
          "base_uri": "https://localhost:8080/"
        },
        "id": "e02bebcd",
        "outputId": "c9f0cfff-506b-4500-d948-790ae89a077d"
      },
      "outputs": [
        {
          "output_type": "stream",
          "name": "stdout",
          "text": [
            "Model: \"sequential_2\"\n",
            "_________________________________________________________________\n",
            " Layer (type)                Output Shape              Param #   \n",
            "=================================================================\n",
            " embedding_1 (Embedding)     (None, 100, 2)            20000     \n",
            "                                                                 \n",
            " simple_rnn_1 (SimpleRNN)    (None, 32)                1120      \n",
            "                                                                 \n",
            " dense_1 (Dense)             (None, 1)                 33        \n",
            "                                                                 \n",
            "=================================================================\n",
            "Total params: 21,153\n",
            "Trainable params: 21,153\n",
            "Non-trainable params: 0\n",
            "_________________________________________________________________\n"
          ]
        }
      ],
      "source": [
        "model= Sequential()\n",
        "model.add(Embedding(10000, output_dim=2, input_length=100))# Use return_sequences=True in case of Name entity recognition, NLP  \n",
        "model.add(SimpleRNN(32, return_sequences=False))\n",
        "model.add(Dense(1, activation='sigmoid'))\n",
        "model.summary()"
      ]
    },
    {
      "cell_type": "code",
      "execution_count": 46,
      "id": "702f1f2a",
      "metadata": {
        "colab": {
          "base_uri": "https://localhost:8080/"
        },
        "id": "702f1f2a",
        "outputId": "9e08868c-ae84-4a8e-9859-ace23d484379"
      },
      "outputs": [
        {
          "output_type": "stream",
          "name": "stdout",
          "text": [
            "Epoch 1/5\n",
            "782/782 [==============================] - 130s 157ms/step - loss: 0.6564 - accuracy: 0.5904 - val_loss: 0.4745 - val_accuracy: 0.7886\n",
            "Epoch 2/5\n",
            "782/782 [==============================] - 84s 108ms/step - loss: 0.4373 - accuracy: 0.8085 - val_loss: 0.4178 - val_accuracy: 0.8221\n",
            "Epoch 3/5\n",
            "782/782 [==============================] - 82s 105ms/step - loss: 0.3418 - accuracy: 0.8620 - val_loss: 0.4073 - val_accuracy: 0.8217\n",
            "Epoch 4/5\n",
            "782/782 [==============================] - 83s 106ms/step - loss: 0.2901 - accuracy: 0.8875 - val_loss: 0.3908 - val_accuracy: 0.8283\n",
            "Epoch 5/5\n",
            "782/782 [==============================] - 81s 104ms/step - loss: 0.2516 - accuracy: 0.9061 - val_loss: 0.4225 - val_accuracy: 0.8344\n"
          ]
        },
        {
          "output_type": "execute_result",
          "data": {
            "text/plain": [
              "<keras.callbacks.History at 0x7fbcf39060b0>"
            ]
          },
          "metadata": {},
          "execution_count": 46
        }
      ],
      "source": [
        "model.compile(optimizer='adam', loss='binary_crossentropy', metrics=['accuracy'])\n",
        "model.fit(x_train, y_train, validation_data=(x_test, y_test), batch_size=32, epochs= 5)"
      ]
    },
    {
      "cell_type": "code",
      "execution_count": 46,
      "id": "d30335dd",
      "metadata": {
        "id": "d30335dd"
      },
      "outputs": [],
      "source": []
    }
  ],
  "metadata": {
    "kernelspec": {
      "display_name": "Python 3 (ipykernel)",
      "language": "python",
      "name": "python3"
    },
    "language_info": {
      "codemirror_mode": {
        "name": "ipython",
        "version": 3
      },
      "file_extension": ".py",
      "mimetype": "text/x-python",
      "name": "python",
      "nbconvert_exporter": "python",
      "pygments_lexer": "ipython3",
      "version": "3.9.12"
    },
    "colab": {
      "provenance": []
    },
    "accelerator": "GPU",
    "gpuClass": "standard"
  },
  "nbformat": 4,
  "nbformat_minor": 5
}